{
  "nbformat": 4,
  "nbformat_minor": 0,
  "metadata": {
    "colab": {
      "name": "DataMININGproject_EZZINA_Salma_MNAOUAR_Hatem_ZILI_Amal-Final .ipynb",
      "provenance": [],
      "collapsed_sections": [
        "495nc6nkCBaC",
        "_ka4pqzIEgRE"
      ]
    },
    "kernelspec": {
      "display_name": "Python 3",
      "name": "python3"
    },
    "language_info": {
      "name": "python"
    }
  },
  "cells": [
    {
      "cell_type": "markdown",
      "metadata": {
        "id": "YFSOnsWwDkN9"
      },
      "source": [
        "# Amal Zili - Hatem Mnaouer - Salma Ezzina\n",
        "\n",
        "---\n",
        "\n",
        "Détection de fraude des transactions en ETC ( ethereum classic )\n",
        "\n",
        "\n",
        "\n"
      ]
    },
    {
      "cell_type": "code",
      "metadata": {
        "id": "N6ngIYw9ueFM",
        "colab": {
          "base_uri": "https://localhost:8080/"
        },
        "outputId": "280296d5-e214-4db7-9922-884ee138eab4"
      },
      "source": [
        "from google.colab import drive\n",
        "drive.mount('/content/drive')"
      ],
      "execution_count": null,
      "outputs": [
        {
          "output_type": "stream",
          "name": "stdout",
          "text": [
            "Mounted at /content/drive\n"
          ]
        }
      ]
    },
    {
      "cell_type": "markdown",
      "metadata": {
        "id": "WQv95K4e3fCo"
      },
      "source": [
        "## Imports"
      ]
    },
    {
      "cell_type": "code",
      "metadata": {
        "id": "iKTj1qHYcMlF"
      },
      "source": [
        "from numpy import mean\n",
        "from sklearn.datasets import make_classification\n",
        "from sklearn.model_selection import cross_val_score\n",
        "from sklearn.model_selection import RepeatedStratifiedKFold\n",
        "from sklearn.svm import SVC\n",
        "\n",
        "import pandas as pd\n",
        "import io\n",
        "import numpy as np\n",
        "import matplotlib.pyplot as plt\n",
        "import seaborn as sns\n",
        "from google.colab import files\n",
        "from sklearn.model_selection import train_test_split\n",
        "from sklearn import preprocessing\n",
        "from sklearn.preprocessing import PowerTransformer\n",
        "from sklearn.linear_model import LogisticRegression\n",
        "from sklearn.ensemble import RandomForestClassifier\n",
        "from imblearn.over_sampling import SMOTE\n",
        "from sklearn.metrics import confusion_matrix, roc_auc_score, roc_curve, auc, classification_report, plot_confusion_matrix\n",
        "\n",
        "import random\n",
        "random.seed(108)"
      ],
      "execution_count": null,
      "outputs": []
    },
    {
      "cell_type": "code",
      "metadata": {
        "id": "B_z8bIZwvUTw"
      },
      "source": [
        "data= pd.read_csv('/content/drive/MyDrive/Dataset.csv')"
      ],
      "execution_count": null,
      "outputs": []
    },
    {
      "cell_type": "markdown",
      "metadata": {
        "id": "AKw3zth4FB6w"
      },
      "source": [
        "## Creating a new attribute to label the data as fraud / non_fraud"
      ]
    },
    {
      "cell_type": "code",
      "metadata": {
        "id": "-3_vDuX6krV4"
      },
      "source": [
        "data['fraud_flag']= data['from_scam']+data['to_scam']>0"
      ],
      "execution_count": null,
      "outputs": []
    },
    {
      "cell_type": "code",
      "metadata": {
        "id": "y1FZCQRdBTD_"
      },
      "source": [
        "data['fraud_flag'] = data['fraud_flag']*1"
      ],
      "execution_count": null,
      "outputs": []
    },
    {
      "cell_type": "markdown",
      "metadata": {
        "id": "495nc6nkCBaC"
      },
      "source": [
        "## Transform the input field into a binary that means empty or non empty"
      ]
    },
    {
      "cell_type": "code",
      "metadata": {
        "id": "aHVIrPx7CBxJ"
      },
      "source": [
        "data['input']= data['input']==\"0x\"\n",
        "data['input'] = data['input']*1"
      ],
      "execution_count": null,
      "outputs": []
    },
    {
      "cell_type": "markdown",
      "metadata": {
        "id": "_ka4pqzIEgRE"
      },
      "source": [
        "\n",
        "## Dropping irrelevant information"
      ]
    },
    {
      "cell_type": "code",
      "metadata": {
        "id": "dNq2h5Xbdt9Z"
      },
      "source": [
        "del data['from_category']\n",
        "del data['to_category']\n",
        "del data['hash']\n",
        "del data['block_number']\n",
        "del data['block_hash']\n",
        "del data['from_scam']\n",
        "del data['to_scam']\n",
        "del data['to_address']\n",
        "del data['from_address']"
      ],
      "execution_count": null,
      "outputs": []
    },
    {
      "cell_type": "code",
      "metadata": {
        "id": "FNWqZNGWF7KH",
        "colab": {
          "base_uri": "https://localhost:8080/"
        },
        "outputId": "7f1406d5-0345-4c95-9ef7-cc984eb154a4"
      },
      "source": [
        "data.head()"
      ],
      "execution_count": null,
      "outputs": [
        {
          "output_type": "execute_result",
          "data": {
            "text/html": [
              "<div>\n",
              "<style scoped>\n",
              "    .dataframe tbody tr th:only-of-type {\n",
              "        vertical-align: middle;\n",
              "    }\n",
              "\n",
              "    .dataframe tbody tr th {\n",
              "        vertical-align: top;\n",
              "    }\n",
              "\n",
              "    .dataframe thead th {\n",
              "        text-align: right;\n",
              "    }\n",
              "</style>\n",
              "<table border=\"1\" class=\"dataframe\">\n",
              "  <thead>\n",
              "    <tr style=\"text-align: right;\">\n",
              "      <th></th>\n",
              "      <th>nonce</th>\n",
              "      <th>transaction_index</th>\n",
              "      <th>value</th>\n",
              "      <th>gas</th>\n",
              "      <th>gas_price</th>\n",
              "      <th>input</th>\n",
              "      <th>receipt_cumulative_gas_used</th>\n",
              "      <th>receipt_gas_used</th>\n",
              "      <th>block_timestamp</th>\n",
              "      <th>fraud_flag</th>\n",
              "    </tr>\n",
              "  </thead>\n",
              "  <tbody>\n",
              "    <tr>\n",
              "      <th>0</th>\n",
              "      <td>370394</td>\n",
              "      <td>4</td>\n",
              "      <td>1.800000e+18</td>\n",
              "      <td>30000</td>\n",
              "      <td>2.205000e+10</td>\n",
              "      <td>1</td>\n",
              "      <td>129358</td>\n",
              "      <td>21000</td>\n",
              "      <td>2017-10-16 05:26:53 UTC</td>\n",
              "      <td>0</td>\n",
              "    </tr>\n",
              "    <tr>\n",
              "      <th>1</th>\n",
              "      <td>229082</td>\n",
              "      <td>85</td>\n",
              "      <td>7.500000e+15</td>\n",
              "      <td>90000</td>\n",
              "      <td>2.060947e+10</td>\n",
              "      <td>1</td>\n",
              "      <td>5415387</td>\n",
              "      <td>21000</td>\n",
              "      <td>2017-10-16 05:28:49 UTC</td>\n",
              "      <td>0</td>\n",
              "    </tr>\n",
              "    <tr>\n",
              "      <th>2</th>\n",
              "      <td>229095</td>\n",
              "      <td>31</td>\n",
              "      <td>7.500000e+15</td>\n",
              "      <td>90000</td>\n",
              "      <td>2.060947e+10</td>\n",
              "      <td>1</td>\n",
              "      <td>1369625</td>\n",
              "      <td>21000</td>\n",
              "      <td>2017-10-16 05:29:19 UTC</td>\n",
              "      <td>0</td>\n",
              "    </tr>\n",
              "    <tr>\n",
              "      <th>3</th>\n",
              "      <td>229126</td>\n",
              "      <td>78</td>\n",
              "      <td>7.500000e+15</td>\n",
              "      <td>90000</td>\n",
              "      <td>2.060947e+10</td>\n",
              "      <td>1</td>\n",
              "      <td>2464655</td>\n",
              "      <td>21000</td>\n",
              "      <td>2017-10-16 05:29:43 UTC</td>\n",
              "      <td>0</td>\n",
              "    </tr>\n",
              "    <tr>\n",
              "      <th>4</th>\n",
              "      <td>229131</td>\n",
              "      <td>83</td>\n",
              "      <td>7.500000e+15</td>\n",
              "      <td>90000</td>\n",
              "      <td>2.060947e+10</td>\n",
              "      <td>1</td>\n",
              "      <td>2569655</td>\n",
              "      <td>21000</td>\n",
              "      <td>2017-10-16 05:29:43 UTC</td>\n",
              "      <td>0</td>\n",
              "    </tr>\n",
              "  </tbody>\n",
              "</table>\n",
              "</div>"
            ],
            "text/plain": [
              "    nonce  transaction_index  ...          block_timestamp  fraud_flag\n",
              "0  370394                  4  ...  2017-10-16 05:26:53 UTC           0\n",
              "1  229082                 85  ...  2017-10-16 05:28:49 UTC           0\n",
              "2  229095                 31  ...  2017-10-16 05:29:19 UTC           0\n",
              "3  229126                 78  ...  2017-10-16 05:29:43 UTC           0\n",
              "4  229131                 83  ...  2017-10-16 05:29:43 UTC           0\n",
              "\n",
              "[5 rows x 10 columns]"
            ]
          },
          "metadata": {},
          "execution_count": 8
        }
      ]
    },
    {
      "cell_type": "markdown",
      "metadata": {
        "id": "19FvWVcmxPxh"
      },
      "source": [
        "## Formatting time attributes"
      ]
    },
    {
      "cell_type": "code",
      "metadata": {
        "id": "XXpUtzAPBkYZ"
      },
      "source": [
        "# re-format all the data in the same way\n",
        "data['block_timestamp'] = data['block_timestamp'].str.replace('+', ' ')\n",
        "\n",
        "# separate years, months, days, hours, minutes, and seconds\n",
        "data[['y','time','DELETE']] = data['block_timestamp'].str.split(' ',expand=True)\n",
        "data[['year', 'month', 'day']] = data['y'].str.split('-',expand=True)\n",
        "data[['hour', 'minu', 'sec']] = data['time'].str.split(':',expand=True)\n",
        "data[['year','month','day','hour', 'minu','sec']] = data[['year','month','day','hour', 'minu','sec']].apply(pd.to_numeric, errors='coerce')\n",
        "del data['block_timestamp']\n",
        "del data['y']\n",
        "del data['time']\n",
        "del data['DELETE']"
      ],
      "execution_count": null,
      "outputs": []
    },
    {
      "cell_type": "code",
      "metadata": {
        "id": "ktIwcVz8srOR",
        "colab": {
          "base_uri": "https://localhost:8080/"
        },
        "outputId": "edab6289-6b75-4160-d088-6ecc4e61a31b"
      },
      "source": [
        "data = data.drop(data[data.year < 2015].index)\n",
        "print(data.year.unique())"
      ],
      "execution_count": null,
      "outputs": [
        {
          "output_type": "stream",
          "name": "stdout",
          "text": [
            "[2017 2018 2019]\n"
          ]
        }
      ]
    },
    {
      "cell_type": "markdown",
      "metadata": {
        "id": "ibpYBLGD7aa8"
      },
      "source": [
        "Assuming the cycling nature of the time fields ( year excluded ), we perform the following transformation to not loose this information.\n",
        "\n",
        "Please note that ETC history starts on 2015, meaning that any transaction before that year is considrered invalid ( we already checked for this condition on prior steps )."
      ]
    },
    {
      "cell_type": "code",
      "metadata": {
        "id": "CkCV9P2v7bYm"
      },
      "source": [
        "data['month_sin'] = np.sin((data.month-1)*(2.*np.pi/12))\n",
        "data['month_cos'] = np.cos((data.month-1)*(2.*np.pi/12))\n",
        "data['day_sin'] = np.sin((data.day-1)*(2.*np.pi/31))\n",
        "data['day_cos'] = np.cos((data.day-1)*(2.*np.pi/31))\n",
        "data['hour_sin'] = np.sin(data.hour*(2.*np.pi/24))\n",
        "data['hour_cos'] = np.cos(data.hour*(2.*np.pi/24))\n",
        "data['minute_sin'] = np.sin(data.minu*(2.*np.pi/60))\n",
        "data['minute_cos'] = np.cos(data.minu*(2.*np.pi/60))\n",
        "data['second_sin'] = np.sin(data.sec*(2.*np.pi/60))\n",
        "data['second_cos'] = np.cos(data.sec*(2.*np.pi/60))\n",
        "\n",
        "del data['month']\n",
        "del data['day']\n",
        "del data['hour']\n",
        "del data['minu']\n",
        "del data['sec']"
      ],
      "execution_count": null,
      "outputs": []
    },
    {
      "cell_type": "markdown",
      "metadata": {
        "id": "DblvFal5hPlw"
      },
      "source": [
        "Assuming the sequential non cyclic nature of the year field, we make the following encoding."
      ]
    },
    {
      "cell_type": "code",
      "metadata": {
        "id": "DF9DBWMthZyj"
      },
      "source": [
        "y_to_ind = {2015+i:i for i in range(100)}\n",
        "data['year'] = data['year'].replace(y_to_ind)"
      ],
      "execution_count": null,
      "outputs": []
    },
    {
      "cell_type": "code",
      "metadata": {
        "id": "dSPPBSDa3ofV",
        "colab": {
          "base_uri": "https://localhost:8080/",
          "height": 617
        },
        "outputId": "18605d7c-f8c6-4966-aeaf-9da47f911837"
      },
      "source": [
        "data"
      ],
      "execution_count": null,
      "outputs": [
        {
          "output_type": "execute_result",
          "data": {
            "text/html": [
              "<div>\n",
              "<style scoped>\n",
              "    .dataframe tbody tr th:only-of-type {\n",
              "        vertical-align: middle;\n",
              "    }\n",
              "\n",
              "    .dataframe tbody tr th {\n",
              "        vertical-align: top;\n",
              "    }\n",
              "\n",
              "    .dataframe thead th {\n",
              "        text-align: right;\n",
              "    }\n",
              "</style>\n",
              "<table border=\"1\" class=\"dataframe\">\n",
              "  <thead>\n",
              "    <tr style=\"text-align: right;\">\n",
              "      <th></th>\n",
              "      <th>nonce</th>\n",
              "      <th>transaction_index</th>\n",
              "      <th>value</th>\n",
              "      <th>gas</th>\n",
              "      <th>gas_price</th>\n",
              "      <th>input</th>\n",
              "      <th>receipt_cumulative_gas_used</th>\n",
              "      <th>receipt_gas_used</th>\n",
              "      <th>fraud_flag</th>\n",
              "      <th>year</th>\n",
              "      <th>month_sin</th>\n",
              "      <th>month_cos</th>\n",
              "      <th>day_sin</th>\n",
              "      <th>day_cos</th>\n",
              "      <th>hour_sin</th>\n",
              "      <th>hour_cos</th>\n",
              "      <th>minute_sin</th>\n",
              "      <th>minute_cos</th>\n",
              "      <th>second_sin</th>\n",
              "      <th>second_cos</th>\n",
              "    </tr>\n",
              "  </thead>\n",
              "  <tbody>\n",
              "    <tr>\n",
              "      <th>0</th>\n",
              "      <td>370394</td>\n",
              "      <td>4</td>\n",
              "      <td>1.800000e+18</td>\n",
              "      <td>30000</td>\n",
              "      <td>2.205000e+10</td>\n",
              "      <td>1</td>\n",
              "      <td>129358</td>\n",
              "      <td>21000</td>\n",
              "      <td>0</td>\n",
              "      <td>2</td>\n",
              "      <td>-1.0</td>\n",
              "      <td>-1.836970e-16</td>\n",
              "      <td>0.101168</td>\n",
              "      <td>-0.994869</td>\n",
              "      <td>9.659258e-01</td>\n",
              "      <td>0.258819</td>\n",
              "      <td>0.406737</td>\n",
              "      <td>-0.913545</td>\n",
              "      <td>-0.669131</td>\n",
              "      <td>0.743145</td>\n",
              "    </tr>\n",
              "    <tr>\n",
              "      <th>1</th>\n",
              "      <td>229082</td>\n",
              "      <td>85</td>\n",
              "      <td>7.500000e+15</td>\n",
              "      <td>90000</td>\n",
              "      <td>2.060947e+10</td>\n",
              "      <td>1</td>\n",
              "      <td>5415387</td>\n",
              "      <td>21000</td>\n",
              "      <td>0</td>\n",
              "      <td>2</td>\n",
              "      <td>-1.0</td>\n",
              "      <td>-1.836970e-16</td>\n",
              "      <td>0.101168</td>\n",
              "      <td>-0.994869</td>\n",
              "      <td>9.659258e-01</td>\n",
              "      <td>0.258819</td>\n",
              "      <td>0.207912</td>\n",
              "      <td>-0.978148</td>\n",
              "      <td>-0.913545</td>\n",
              "      <td>0.406737</td>\n",
              "    </tr>\n",
              "    <tr>\n",
              "      <th>2</th>\n",
              "      <td>229095</td>\n",
              "      <td>31</td>\n",
              "      <td>7.500000e+15</td>\n",
              "      <td>90000</td>\n",
              "      <td>2.060947e+10</td>\n",
              "      <td>1</td>\n",
              "      <td>1369625</td>\n",
              "      <td>21000</td>\n",
              "      <td>0</td>\n",
              "      <td>2</td>\n",
              "      <td>-1.0</td>\n",
              "      <td>-1.836970e-16</td>\n",
              "      <td>0.101168</td>\n",
              "      <td>-0.994869</td>\n",
              "      <td>9.659258e-01</td>\n",
              "      <td>0.258819</td>\n",
              "      <td>0.104528</td>\n",
              "      <td>-0.994522</td>\n",
              "      <td>0.913545</td>\n",
              "      <td>-0.406737</td>\n",
              "    </tr>\n",
              "    <tr>\n",
              "      <th>3</th>\n",
              "      <td>229126</td>\n",
              "      <td>78</td>\n",
              "      <td>7.500000e+15</td>\n",
              "      <td>90000</td>\n",
              "      <td>2.060947e+10</td>\n",
              "      <td>1</td>\n",
              "      <td>2464655</td>\n",
              "      <td>21000</td>\n",
              "      <td>0</td>\n",
              "      <td>2</td>\n",
              "      <td>-1.0</td>\n",
              "      <td>-1.836970e-16</td>\n",
              "      <td>0.101168</td>\n",
              "      <td>-0.994869</td>\n",
              "      <td>9.659258e-01</td>\n",
              "      <td>0.258819</td>\n",
              "      <td>0.104528</td>\n",
              "      <td>-0.994522</td>\n",
              "      <td>-0.978148</td>\n",
              "      <td>-0.207912</td>\n",
              "    </tr>\n",
              "    <tr>\n",
              "      <th>4</th>\n",
              "      <td>229131</td>\n",
              "      <td>83</td>\n",
              "      <td>7.500000e+15</td>\n",
              "      <td>90000</td>\n",
              "      <td>2.060947e+10</td>\n",
              "      <td>1</td>\n",
              "      <td>2569655</td>\n",
              "      <td>21000</td>\n",
              "      <td>0</td>\n",
              "      <td>2</td>\n",
              "      <td>-1.0</td>\n",
              "      <td>-1.836970e-16</td>\n",
              "      <td>0.101168</td>\n",
              "      <td>-0.994869</td>\n",
              "      <td>9.659258e-01</td>\n",
              "      <td>0.258819</td>\n",
              "      <td>0.104528</td>\n",
              "      <td>-0.994522</td>\n",
              "      <td>-0.978148</td>\n",
              "      <td>-0.207912</td>\n",
              "    </tr>\n",
              "    <tr>\n",
              "      <th>...</th>\n",
              "      <td>...</td>\n",
              "      <td>...</td>\n",
              "      <td>...</td>\n",
              "      <td>...</td>\n",
              "      <td>...</td>\n",
              "      <td>...</td>\n",
              "      <td>...</td>\n",
              "      <td>...</td>\n",
              "      <td>...</td>\n",
              "      <td>...</td>\n",
              "      <td>...</td>\n",
              "      <td>...</td>\n",
              "      <td>...</td>\n",
              "      <td>...</td>\n",
              "      <td>...</td>\n",
              "      <td>...</td>\n",
              "      <td>...</td>\n",
              "      <td>...</td>\n",
              "      <td>...</td>\n",
              "      <td>...</td>\n",
              "    </tr>\n",
              "    <tr>\n",
              "      <th>71245</th>\n",
              "      <td>69</td>\n",
              "      <td>204</td>\n",
              "      <td>6.530000e+17</td>\n",
              "      <td>21000</td>\n",
              "      <td>3.000000e+09</td>\n",
              "      <td>1</td>\n",
              "      <td>9039053</td>\n",
              "      <td>21000</td>\n",
              "      <td>1</td>\n",
              "      <td>4</td>\n",
              "      <td>-0.5</td>\n",
              "      <td>8.660254e-01</td>\n",
              "      <td>-0.937752</td>\n",
              "      <td>0.347305</td>\n",
              "      <td>5.000000e-01</td>\n",
              "      <td>-0.866025</td>\n",
              "      <td>0.207912</td>\n",
              "      <td>-0.978148</td>\n",
              "      <td>0.309017</td>\n",
              "      <td>0.951057</td>\n",
              "    </tr>\n",
              "    <tr>\n",
              "      <th>71246</th>\n",
              "      <td>28</td>\n",
              "      <td>101</td>\n",
              "      <td>1.090000e+18</td>\n",
              "      <td>21000</td>\n",
              "      <td>5.000000e+09</td>\n",
              "      <td>1</td>\n",
              "      <td>5082356</td>\n",
              "      <td>21000</td>\n",
              "      <td>1</td>\n",
              "      <td>4</td>\n",
              "      <td>-0.5</td>\n",
              "      <td>8.660254e-01</td>\n",
              "      <td>-0.394356</td>\n",
              "      <td>0.918958</td>\n",
              "      <td>9.659258e-01</td>\n",
              "      <td>0.258819</td>\n",
              "      <td>-0.866025</td>\n",
              "      <td>-0.500000</td>\n",
              "      <td>-0.809017</td>\n",
              "      <td>-0.587785</td>\n",
              "    </tr>\n",
              "    <tr>\n",
              "      <th>71247</th>\n",
              "      <td>70</td>\n",
              "      <td>201</td>\n",
              "      <td>1.090000e+18</td>\n",
              "      <td>21000</td>\n",
              "      <td>1.500000e+09</td>\n",
              "      <td>1</td>\n",
              "      <td>9673734</td>\n",
              "      <td>21000</td>\n",
              "      <td>1</td>\n",
              "      <td>4</td>\n",
              "      <td>-0.5</td>\n",
              "      <td>8.660254e-01</td>\n",
              "      <td>-0.394356</td>\n",
              "      <td>0.918958</td>\n",
              "      <td>9.659258e-01</td>\n",
              "      <td>0.258819</td>\n",
              "      <td>-0.994522</td>\n",
              "      <td>0.104528</td>\n",
              "      <td>0.866025</td>\n",
              "      <td>0.500000</td>\n",
              "    </tr>\n",
              "    <tr>\n",
              "      <th>71248</th>\n",
              "      <td>29</td>\n",
              "      <td>36</td>\n",
              "      <td>4.800000e+16</td>\n",
              "      <td>21000</td>\n",
              "      <td>6.000000e+09</td>\n",
              "      <td>1</td>\n",
              "      <td>2823118</td>\n",
              "      <td>21000</td>\n",
              "      <td>1</td>\n",
              "      <td>4</td>\n",
              "      <td>-0.5</td>\n",
              "      <td>8.660254e-01</td>\n",
              "      <td>-0.394356</td>\n",
              "      <td>0.918958</td>\n",
              "      <td>1.224647e-16</td>\n",
              "      <td>-1.000000</td>\n",
              "      <td>-0.207912</td>\n",
              "      <td>0.978148</td>\n",
              "      <td>-0.406737</td>\n",
              "      <td>0.913545</td>\n",
              "    </tr>\n",
              "    <tr>\n",
              "      <th>71249</th>\n",
              "      <td>71</td>\n",
              "      <td>61</td>\n",
              "      <td>4.790000e+16</td>\n",
              "      <td>21000</td>\n",
              "      <td>5.000000e+09</td>\n",
              "      <td>1</td>\n",
              "      <td>5514071</td>\n",
              "      <td>21000</td>\n",
              "      <td>1</td>\n",
              "      <td>4</td>\n",
              "      <td>-0.5</td>\n",
              "      <td>8.660254e-01</td>\n",
              "      <td>-0.394356</td>\n",
              "      <td>0.918958</td>\n",
              "      <td>-2.588190e-01</td>\n",
              "      <td>-0.965926</td>\n",
              "      <td>0.309017</td>\n",
              "      <td>0.951057</td>\n",
              "      <td>-0.866025</td>\n",
              "      <td>-0.500000</td>\n",
              "    </tr>\n",
              "  </tbody>\n",
              "</table>\n",
              "<p>71250 rows × 20 columns</p>\n",
              "</div>"
            ],
            "text/plain": [
              "        nonce  transaction_index  ...  second_sin  second_cos\n",
              "0      370394                  4  ...   -0.669131    0.743145\n",
              "1      229082                 85  ...   -0.913545    0.406737\n",
              "2      229095                 31  ...    0.913545   -0.406737\n",
              "3      229126                 78  ...   -0.978148   -0.207912\n",
              "4      229131                 83  ...   -0.978148   -0.207912\n",
              "...       ...                ...  ...         ...         ...\n",
              "71245      69                204  ...    0.309017    0.951057\n",
              "71246      28                101  ...   -0.809017   -0.587785\n",
              "71247      70                201  ...    0.866025    0.500000\n",
              "71248      29                 36  ...   -0.406737    0.913545\n",
              "71249      71                 61  ...   -0.866025   -0.500000\n",
              "\n",
              "[71250 rows x 20 columns]"
            ]
          },
          "metadata": {},
          "execution_count": 13
        }
      ]
    },
    {
      "cell_type": "code",
      "metadata": {
        "colab": {
          "base_uri": "https://localhost:8080/",
          "height": 649
        },
        "id": "1gnFlnkXARQD",
        "outputId": "a3ac7e71-ac18-441e-f65f-da376b963e9f"
      },
      "source": [
        "print(data['fraud_flag'].value_counts())\n",
        "\n",
        "pie, ax = plt.subplots(figsize=[15,10])\n",
        "labels = ['Non-fraud', 'Fraud']\n",
        "colors = ['pink', 'blue']\n",
        "plt.pie(x = data['fraud_flag'].value_counts(), autopct='%.2f%%', explode=[0.02]*2, labels=labels, pctdistance=0.5, textprops={'fontsize': 16}, colors = colors)\n",
        "plt.title('Labels distribution', fontsize=22, fontweight='bold')\n",
        "plt.show()"
      ],
      "execution_count": null,
      "outputs": [
        {
          "output_type": "stream",
          "name": "stdout",
          "text": [
            "0    57000\n",
            "1    14250\n",
            "Name: fraud_flag, dtype: int64\n"
          ]
        },
        {
          "output_type": "display_data",
          "data": {
            "image/png": "[encoded data removed]",
            "text/plain": [
              "<Figure size 1080x720 with 1 Axes>"
            ]
          },
          "metadata": {}
        }
      ]
    },
    {
      "cell_type": "markdown",
      "metadata": {
        "id": "UjDjs7-FEr0M"
      },
      "source": [
        "## Correlation analysis"
      ]
    },
    {
      "cell_type": "code",
      "metadata": {
        "id": "y5R-VBmqEuh1",
        "colab": {
          "base_uri": "https://localhost:8080/",
          "height": 731
        },
        "outputId": "139e2132-ce1c-4ab1-b83e-7fba3aea4911"
      },
      "source": [
        "corr = data.corr()\n",
        "mask = np.zeros_like(corr)\n",
        "mask[np.triu_indices_from(mask)]=True\n",
        "with sns.axes_style('white'):\n",
        "    fig, ax = plt.subplots(figsize=(18,10))\n",
        "    sns.heatmap(corr,  mask=mask, annot=False, cmap='CMRmap', center=0, linewidths=0.1, square=True)"
      ],
      "execution_count": null,
      "outputs": [
        {
          "output_type": "display_data",
          "data": {
            "image/png": "[encoded data removed]",
            "text/plain": [
              "<Figure size 1296x720 with 2 Axes>"
            ]
          },
          "metadata": {}
        }
      ]
    },
    {
      "cell_type": "code",
      "metadata": {
        "id": "apxvglfqEx-a"
      },
      "source": [
        "del data['receipt_cumulative_gas_used']\n",
        "del data['input']"
      ],
      "execution_count": null,
      "outputs": []
    },
    {
      "cell_type": "code",
      "metadata": {
        "colab": {
          "base_uri": "https://localhost:8080/",
          "height": 313
        },
        "id": "tMs0WenuGv6f",
        "outputId": "295d8beb-8769-4658-fce9-d5524beb1e73"
      },
      "source": [
        "data.head()"
      ],
      "execution_count": null,
      "outputs": [
        {
          "output_type": "execute_result",
          "data": {
            "text/html": [
              "<div>\n",
              "<style scoped>\n",
              "    .dataframe tbody tr th:only-of-type {\n",
              "        vertical-align: middle;\n",
              "    }\n",
              "\n",
              "    .dataframe tbody tr th {\n",
              "        vertical-align: top;\n",
              "    }\n",
              "\n",
              "    .dataframe thead th {\n",
              "        text-align: right;\n",
              "    }\n",
              "</style>\n",
              "<table border=\"1\" class=\"dataframe\">\n",
              "  <thead>\n",
              "    <tr style=\"text-align: right;\">\n",
              "      <th></th>\n",
              "      <th>nonce</th>\n",
              "      <th>transaction_index</th>\n",
              "      <th>value</th>\n",
              "      <th>gas</th>\n",
              "      <th>gas_price</th>\n",
              "      <th>receipt_gas_used</th>\n",
              "      <th>fraud_flag</th>\n",
              "      <th>year</th>\n",
              "      <th>month_sin</th>\n",
              "      <th>month_cos</th>\n",
              "      <th>day_sin</th>\n",
              "      <th>day_cos</th>\n",
              "      <th>hour_sin</th>\n",
              "      <th>hour_cos</th>\n",
              "      <th>minute_sin</th>\n",
              "      <th>minute_cos</th>\n",
              "      <th>second_sin</th>\n",
              "      <th>second_cos</th>\n",
              "    </tr>\n",
              "  </thead>\n",
              "  <tbody>\n",
              "    <tr>\n",
              "      <th>0</th>\n",
              "      <td>370394</td>\n",
              "      <td>4</td>\n",
              "      <td>1.800000e+18</td>\n",
              "      <td>30000</td>\n",
              "      <td>2.205000e+10</td>\n",
              "      <td>21000</td>\n",
              "      <td>0</td>\n",
              "      <td>2</td>\n",
              "      <td>-1.0</td>\n",
              "      <td>-1.836970e-16</td>\n",
              "      <td>0.101168</td>\n",
              "      <td>-0.994869</td>\n",
              "      <td>0.965926</td>\n",
              "      <td>0.258819</td>\n",
              "      <td>0.406737</td>\n",
              "      <td>-0.913545</td>\n",
              "      <td>-0.669131</td>\n",
              "      <td>0.743145</td>\n",
              "    </tr>\n",
              "    <tr>\n",
              "      <th>1</th>\n",
              "      <td>229082</td>\n",
              "      <td>85</td>\n",
              "      <td>7.500000e+15</td>\n",
              "      <td>90000</td>\n",
              "      <td>2.060947e+10</td>\n",
              "      <td>21000</td>\n",
              "      <td>0</td>\n",
              "      <td>2</td>\n",
              "      <td>-1.0</td>\n",
              "      <td>-1.836970e-16</td>\n",
              "      <td>0.101168</td>\n",
              "      <td>-0.994869</td>\n",
              "      <td>0.965926</td>\n",
              "      <td>0.258819</td>\n",
              "      <td>0.207912</td>\n",
              "      <td>-0.978148</td>\n",
              "      <td>-0.913545</td>\n",
              "      <td>0.406737</td>\n",
              "    </tr>\n",
              "    <tr>\n",
              "      <th>2</th>\n",
              "      <td>229095</td>\n",
              "      <td>31</td>\n",
              "      <td>7.500000e+15</td>\n",
              "      <td>90000</td>\n",
              "      <td>2.060947e+10</td>\n",
              "      <td>21000</td>\n",
              "      <td>0</td>\n",
              "      <td>2</td>\n",
              "      <td>-1.0</td>\n",
              "      <td>-1.836970e-16</td>\n",
              "      <td>0.101168</td>\n",
              "      <td>-0.994869</td>\n",
              "      <td>0.965926</td>\n",
              "      <td>0.258819</td>\n",
              "      <td>0.104528</td>\n",
              "      <td>-0.994522</td>\n",
              "      <td>0.913545</td>\n",
              "      <td>-0.406737</td>\n",
              "    </tr>\n",
              "    <tr>\n",
              "      <th>3</th>\n",
              "      <td>229126</td>\n",
              "      <td>78</td>\n",
              "      <td>7.500000e+15</td>\n",
              "      <td>90000</td>\n",
              "      <td>2.060947e+10</td>\n",
              "      <td>21000</td>\n",
              "      <td>0</td>\n",
              "      <td>2</td>\n",
              "      <td>-1.0</td>\n",
              "      <td>-1.836970e-16</td>\n",
              "      <td>0.101168</td>\n",
              "      <td>-0.994869</td>\n",
              "      <td>0.965926</td>\n",
              "      <td>0.258819</td>\n",
              "      <td>0.104528</td>\n",
              "      <td>-0.994522</td>\n",
              "      <td>-0.978148</td>\n",
              "      <td>-0.207912</td>\n",
              "    </tr>\n",
              "    <tr>\n",
              "      <th>4</th>\n",
              "      <td>229131</td>\n",
              "      <td>83</td>\n",
              "      <td>7.500000e+15</td>\n",
              "      <td>90000</td>\n",
              "      <td>2.060947e+10</td>\n",
              "      <td>21000</td>\n",
              "      <td>0</td>\n",
              "      <td>2</td>\n",
              "      <td>-1.0</td>\n",
              "      <td>-1.836970e-16</td>\n",
              "      <td>0.101168</td>\n",
              "      <td>-0.994869</td>\n",
              "      <td>0.965926</td>\n",
              "      <td>0.258819</td>\n",
              "      <td>0.104528</td>\n",
              "      <td>-0.994522</td>\n",
              "      <td>-0.978148</td>\n",
              "      <td>-0.207912</td>\n",
              "    </tr>\n",
              "  </tbody>\n",
              "</table>\n",
              "</div>"
            ],
            "text/plain": [
              "    nonce  transaction_index         value  ...  minute_cos  second_sin  second_cos\n",
              "0  370394                  4  1.800000e+18  ...   -0.913545   -0.669131    0.743145\n",
              "1  229082                 85  7.500000e+15  ...   -0.978148   -0.913545    0.406737\n",
              "2  229095                 31  7.500000e+15  ...   -0.994522    0.913545   -0.406737\n",
              "3  229126                 78  7.500000e+15  ...   -0.994522   -0.978148   -0.207912\n",
              "4  229131                 83  7.500000e+15  ...   -0.994522   -0.978148   -0.207912\n",
              "\n",
              "[5 rows x 18 columns]"
            ]
          },
          "metadata": {},
          "execution_count": 17
        }
      ]
    },
    {
      "cell_type": "code",
      "metadata": {
        "id": "P5J3D6M-GqF-",
        "colab": {
          "base_uri": "https://localhost:8080/",
          "height": 671
        },
        "outputId": "9d145b16-5f9d-44f2-ecb2-252212234904"
      },
      "source": [
        "corr = data.corr()\n",
        "mask = np.zeros_like(corr)\n",
        "mask[np.triu_indices_from(mask)]=True\n",
        "with sns.axes_style('white'):\n",
        "    fig, ax = plt.subplots(figsize=(18,10))\n",
        "    sns.heatmap(corr,  mask=mask, annot=False, cmap='CMRmap', center=0, linewidths=0.1, square=True)"
      ],
      "execution_count": null,
      "outputs": [
        {
          "output_type": "display_data",
          "data": {
            "image/png": "[encoded data removed]",
            "text/plain": [
              "<Figure size 1296x720 with 2 Axes>"
            ]
          },
          "metadata": {}
        }
      ]
    },
    {
      "cell_type": "markdown",
      "metadata": {
        "id": "q1xZlCAzHreH"
      },
      "source": [
        "## Data preparation"
      ]
    },
    {
      "cell_type": "code",
      "source": [
        "data =data[~data.isin([np.nan, np.inf, -np.inf]).any(1)]\n",
        "\n",
        "y = data['fraud_flag']\n",
        "x=data.drop(['fraud_flag'], axis=1)\n",
        "\n",
        "print(x.shape, y.shape)\n",
        "\n",
        "\n",
        "x_train, x_test, y_train, y_test = train_test_split(x, y, test_size = 0.2, random_state = 50)\n",
        "print(x_train.shape, y_train.shape)\n",
        "print(x_test.shape, y_test.shape)\n"
      ],
      "metadata": {
        "id": "Q71WB7HXyVld",
        "colab": {
          "base_uri": "https://localhost:8080/"
        },
        "outputId": "9cd9c3e0-45f4-4c97-a11e-ea0de1dc8284"
      },
      "execution_count": null,
      "outputs": [
        {
          "output_type": "stream",
          "name": "stdout",
          "text": [
            "(71250, 17) (71250,)\n",
            "(57000, 17) (57000,)\n",
            "(14250, 17) (14250,)\n"
          ]
        }
      ]
    },
    {
      "cell_type": "code",
      "source": [
        "from collections import Counter\n",
        "counter = Counter(y_train)\n",
        "print(counter)"
      ],
      "metadata": {
        "id": "cEbaseDkbjy-",
        "colab": {
          "base_uri": "https://localhost:8080/"
        },
        "outputId": "8a1079b1-2cc3-455a-f2c9-0236b914282a"
      },
      "execution_count": null,
      "outputs": [
        {
          "output_type": "stream",
          "name": "stdout",
          "text": [
            "Counter({0: 45592, 1: 11408})\n"
          ]
        }
      ]
    },
    {
      "cell_type": "markdown",
      "source": [
        "Check there is no null value"
      ],
      "metadata": {
        "id": "6QihvbRoymYH"
      }
    },
    {
      "cell_type": "code",
      "source": [
        "for i in x_train.columns:\n",
        "    if (data.isnull().values.any()):\n",
        "        print(\"ALERT\")"
      ],
      "metadata": {
        "id": "RUYMcYFkyZ46"
      },
      "execution_count": null,
      "outputs": []
    },
    {
      "cell_type": "markdown",
      "source": [
        "Normalize the training features"
      ],
      "metadata": {
        "id": "99deP1oSyse6"
      }
    },
    {
      "cell_type": "code",
      "source": [
        "norm = preprocessing.PowerTransformer()\n",
        "print(x_train.info())\n",
        "norm_train_f = norm.fit_transform(x_train)\n",
        "\n",
        "norm_test = norm.transform(x_test)"
      ],
      "metadata": {
        "id": "ucnsb4nfyt3c",
        "colab": {
          "base_uri": "https://localhost:8080/"
        },
        "outputId": "d762fe1d-208b-4dc0-d984-b1364802a21f"
      },
      "execution_count": null,
      "outputs": [
        {
          "output_type": "stream",
          "name": "stdout",
          "text": [
            "<class 'pandas.core.frame.DataFrame'>\n",
            "Int64Index: 57000 entries, 24610 to 14000\n",
            "Data columns (total 17 columns):\n",
            " #   Column             Non-Null Count  Dtype  \n",
            "---  ------             --------------  -----  \n",
            " 0   nonce              57000 non-null  int64  \n",
            " 1   transaction_index  57000 non-null  int64  \n",
            " 2   value              57000 non-null  float64\n",
            " 3   gas                57000 non-null  int64  \n",
            " 4   gas_price          57000 non-null  float64\n",
            " 5   receipt_gas_used   57000 non-null  int64  \n",
            " 6   year               57000 non-null  int64  \n",
            " 7   month_sin          57000 non-null  float64\n",
            " 8   month_cos          57000 non-null  float64\n",
            " 9   day_sin            57000 non-null  float64\n",
            " 10  day_cos            57000 non-null  float64\n",
            " 11  hour_sin           57000 non-null  float64\n",
            " 12  hour_cos           57000 non-null  float64\n",
            " 13  minute_sin         57000 non-null  float64\n",
            " 14  minute_cos         57000 non-null  float64\n",
            " 15  second_sin         57000 non-null  float64\n",
            " 16  second_cos         57000 non-null  float64\n",
            "dtypes: float64(12), int64(5)\n",
            "memory usage: 7.8 MB\n",
            "None\n"
          ]
        },
        {
          "output_type": "stream",
          "name": "stderr",
          "text": [
            "/usr/local/lib/python3.7/dist-packages/numpy/core/_methods.py:205: RuntimeWarning: overflow encountered in multiply\n",
            "  x = um.multiply(x, x, out=x)\n",
            "/usr/local/lib/python3.7/dist-packages/sklearn/preprocessing/_data.py:3253: RuntimeWarning: divide by zero encountered in log\n",
            "  loglike = -n_samples / 2 * np.log(x_trans.var())\n"
          ]
        }
      ]
    },
    {
      "cell_type": "markdown",
      "source": [
        "### Handling the unbalance"
      ],
      "metadata": {
        "id": "P1xvZ4LoyzqK"
      }
    },
    {
      "cell_type": "code",
      "source": [
        "oversample = SMOTE()\n",
        "print(f'Shape of the training before SMOTE: {norm_train_f.shape, y_train.shape}')\n",
        "\n",
        "x_tr_resample, y_tr_resample = oversample.fit_resample(norm_train_f, y_train)\n",
        "print(f'Shape of the training after SMOTE: {x_tr_resample.shape, y_tr_resample.shape}')"
      ],
      "metadata": {
        "id": "fGWWR7CMzHKN",
        "colab": {
          "base_uri": "https://localhost:8080/"
        },
        "outputId": "4c285e37-ed5d-4c7e-d4ed-ee3426d56a36"
      },
      "execution_count": null,
      "outputs": [
        {
          "output_type": "stream",
          "name": "stdout",
          "text": [
            "Shape of the training before SMOTE: ((57000, 17), (57000,))\n",
            "Shape of the training after SMOTE: ((91184, 17), (91184,))\n"
          ]
        }
      ]
    },
    {
      "cell_type": "code",
      "source": [
        "from collections import Counter\n",
        "counter = Counter(y_tr_resample)\n",
        "print(counter)"
      ],
      "metadata": {
        "id": "JzaXEhv_b8Fg",
        "colab": {
          "base_uri": "https://localhost:8080/"
        },
        "outputId": "c8066b53-7fa0-4c1a-c879-f003f5e1d35b"
      },
      "execution_count": null,
      "outputs": [
        {
          "output_type": "stream",
          "name": "stdout",
          "text": [
            "Counter({0: 45592, 1: 45592})\n"
          ]
        }
      ]
    },
    {
      "cell_type": "code",
      "source": [
        "pie, ax = plt.subplots(figsize=[15,10])\n",
        "labels = ['Non-fraud', 'Fraud']\n",
        "colors = ['pink', 'blue']\n",
        "plt.pie(x = y_tr_resample.value_counts(), autopct='%.2f%%', explode=[0.02]*2, labels=labels, pctdistance=0.5, textprops={'fontsize': 14}, colors = colors)\n",
        "plt.title('Target distribution', fontsize=20, fontweight='bold')\n",
        "plt.show()"
      ],
      "metadata": {
        "colab": {
          "base_uri": "https://localhost:8080/",
          "height": 596
        },
        "id": "5Pk-uBWLb9v2",
        "outputId": "0f7eaaa0-84d7-43e7-cf16-546ca46977ef"
      },
      "execution_count": null,
      "outputs": [
        {
          "output_type": "display_data",
          "data": {
            "image/png": "[encoded data removed]",
            "text/plain": [
              "<Figure size 1080x720 with 1 Axes>"
            ]
          },
          "metadata": {}
        }
      ]
    },
    {
      "cell_type": "markdown",
      "source": [
        "## Logistic regression"
      ],
      "metadata": {
        "id": "U-FJ_I-5zJTk"
      }
    },
    {
      "cell_type": "code",
      "source": [
        "LR = LogisticRegression(random_state=42)\n",
        "LR.fit(x_tr_resample, y_tr_resample)\n",
        "# Transform test features\n",
        "norm_test_f = norm.transform(x_test)\n",
        "\n",
        "preds = LR.predict(norm_test_f)\n",
        "print(y_test.shape)\n",
        "print(y_test.value_counts())"
      ],
      "metadata": {
        "colab": {
          "base_uri": "https://localhost:8080/"
        },
        "id": "O-5Of5mUzMF6",
        "outputId": "d62e9b69-5b15-4e4a-f77f-3307aef0a13e"
      },
      "execution_count": null,
      "outputs": [
        {
          "output_type": "stream",
          "name": "stdout",
          "text": [
            "(14250,)\n",
            "0    11408\n",
            "1     2842\n",
            "Name: fraud_flag, dtype: int64\n"
          ]
        }
      ]
    },
    {
      "cell_type": "code",
      "source": [
        "print(classification_report(y_test, preds))\n",
        "print(confusion_matrix(y_test, preds))\n",
        "plot_confusion_matrix(LR, norm_test, y_test)"
      ],
      "metadata": {
        "colab": {
          "base_uri": "https://localhost:8080/",
          "height": 542
        },
        "id": "bObAlTxOzYPv",
        "outputId": "9282a9cc-10bf-4b52-874b-b4012c502eab"
      },
      "execution_count": null,
      "outputs": [
        {
          "output_type": "stream",
          "name": "stdout",
          "text": [
            "              precision    recall  f1-score   support\n",
            "\n",
            "           0       0.95      0.85      0.89     11408\n",
            "           1       0.57      0.81      0.67      2842\n",
            "\n",
            "    accuracy                           0.84     14250\n",
            "   macro avg       0.76      0.83      0.78     14250\n",
            "weighted avg       0.87      0.84      0.85     14250\n",
            "\n",
            "[[9656 1752]\n",
            " [ 542 2300]]\n"
          ]
        },
        {
          "output_type": "stream",
          "name": "stderr",
          "text": [
            "/usr/local/lib/python3.7/dist-packages/sklearn/utils/deprecation.py:87: FutureWarning: Function plot_confusion_matrix is deprecated; Function `plot_confusion_matrix` is deprecated in 1.0 and will be removed in 1.2. Use one of the class methods: ConfusionMatrixDisplay.from_predictions or ConfusionMatrixDisplay.from_estimator.\n",
            "  warnings.warn(msg, category=FutureWarning)\n"
          ]
        },
        {
          "output_type": "execute_result",
          "data": {
            "text/plain": [
              "<sklearn.metrics._plot.confusion_matrix.ConfusionMatrixDisplay at 0x7f066b8dbcd0>"
            ]
          },
          "metadata": {},
          "execution_count": 42
        },
        {
          "output_type": "display_data",
          "data": {
            "image/png": "[encoded data removed]",
            "text/plain": [
              "<Figure size 432x288 with 2 Axes>"
            ]
          },
          "metadata": {
            "needs_background": "light"
          }
        }
      ]
    },
    {
      "cell_type": "markdown",
      "source": [
        "## Random Forest"
      ],
      "metadata": {
        "id": "Qjp31tx3zbql"
      }
    },
    {
      "cell_type": "code",
      "source": [
        "RF = RandomForestClassifier(random_state=42)\n",
        "RF.fit(x_tr_resample, y_tr_resample)\n",
        "preds_RF = RF.predict(norm_test_f)\n",
        "\n",
        "print(classification_report(y_test, preds_RF))\n",
        "print(confusion_matrix(y_test, preds_RF))\n",
        "plot_confusion_matrix(RF, norm_test_f, y_test)"
      ],
      "metadata": {
        "colab": {
          "base_uri": "https://localhost:8080/",
          "height": 542
        },
        "id": "-kwdKlmDzdo8",
        "outputId": "7841295f-708f-4d82-cd89-f3a8213326fb"
      },
      "execution_count": null,
      "outputs": [
        {
          "output_type": "stream",
          "name": "stdout",
          "text": [
            "              precision    recall  f1-score   support\n",
            "\n",
            "           0       0.98      1.00      0.99     11408\n",
            "           1       0.99      0.92      0.96      2842\n",
            "\n",
            "    accuracy                           0.98     14250\n",
            "   macro avg       0.99      0.96      0.97     14250\n",
            "weighted avg       0.98      0.98      0.98     14250\n",
            "\n",
            "[[11393    15]\n",
            " [  219  2623]]\n"
          ]
        },
        {
          "output_type": "stream",
          "name": "stderr",
          "text": [
            "/usr/local/lib/python3.7/dist-packages/sklearn/utils/deprecation.py:87: FutureWarning: Function plot_confusion_matrix is deprecated; Function `plot_confusion_matrix` is deprecated in 1.0 and will be removed in 1.2. Use one of the class methods: ConfusionMatrixDisplay.from_predictions or ConfusionMatrixDisplay.from_estimator.\n",
            "  warnings.warn(msg, category=FutureWarning)\n"
          ]
        },
        {
          "output_type": "execute_result",
          "data": {
            "text/plain": [
              "<sklearn.metrics._plot.confusion_matrix.ConfusionMatrixDisplay at 0x7f066c7327d0>"
            ]
          },
          "metadata": {},
          "execution_count": 43
        },
        {
          "output_type": "display_data",
          "data": {
            "image/png": "[encoded data removed]",
            "text/plain": [
              "<Figure size 432x288 with 2 Axes>"
            ]
          },
          "metadata": {
            "needs_background": "light"
          }
        }
      ]
    },
    {
      "cell_type": "markdown",
      "source": [
        "## Neural network:"
      ],
      "metadata": {
        "id": "Zx362qIZzomI"
      }
    },
    {
      "cell_type": "code",
      "source": [
        "from sklearn.neural_network import MLPClassifier\n",
        "NN= MLPClassifier(random_state=42)\n",
        "NN.fit(x_train, y_train)\n",
        "\n",
        "predicted_values = NN.predict(x_test)\n",
        "print(classification_report(y_test, predicted_values))\n",
        "print(confusion_matrix(y_test, predicted_values))\n",
        "\n",
        "\n",
        "from sklearn.metrics import ConfusionMatrixDisplay\n",
        "cm = confusion_matrix(y_test,predicted_values)\n",
        "\n",
        "disp = ConfusionMatrixDisplay(confusion_matrix=cm, display_labels=labels)\n",
        "\n",
        "disp.plot(cmap=plt.cm.Blues)\n",
        "plt.show()"
      ],
      "metadata": {
        "id": "8Uf0NXYnXYDr",
        "colab": {
          "base_uri": "https://localhost:8080/",
          "height": 470
        },
        "outputId": "f8cbb1e4-e24b-49fb-ebda-4751e946ad39"
      },
      "execution_count": null,
      "outputs": [
        {
          "output_type": "stream",
          "name": "stdout",
          "text": [
            "              precision    recall  f1-score   support\n",
            "\n",
            "           0       0.87      0.99      0.93     11408\n",
            "           1       0.95      0.42      0.58      2842\n",
            "\n",
            "    accuracy                           0.88     14250\n",
            "   macro avg       0.91      0.71      0.75     14250\n",
            "weighted avg       0.89      0.88      0.86     14250\n",
            "\n",
            "[[11343    65]\n",
            " [ 1654  1188]]\n"
          ]
        },
        {
          "output_type": "display_data",
          "data": {
            "image/png": "[encoded data removed]",
            "text/plain": [
              "<Figure size 432x288 with 2 Axes>"
            ]
          },
          "metadata": {
            "needs_background": "light"
          }
        }
      ]
    },
    {
      "cell_type": "code",
      "source": [
        "#Oversampling without any normalization for x_train (The normalized one gave us very bad results)\n",
        "x_tr_resample2, y_tr_resample2 = oversample.fit_resample(x_train, y_train)"
      ],
      "metadata": {
        "id": "bg_nSVLH9j5t"
      },
      "execution_count": null,
      "outputs": []
    },
    {
      "cell_type": "markdown",
      "source": [
        "## KNN:"
      ],
      "metadata": {
        "id": "9T7qqqaXdwIx"
      }
    },
    {
      "cell_type": "code",
      "source": [
        "from sklearn.neighbors import KNeighborsRegressor\n",
        "knn_model = KNeighborsRegressor(n_neighbors=3)\n",
        "knn_model.fit(x_tr_resample2, y_tr_resample2)"
      ],
      "metadata": {
        "colab": {
          "base_uri": "https://localhost:8080/"
        },
        "id": "bPxAC7VOdzWh",
        "outputId": "5f006fc4-fa7a-4af6-8ef5-e220124f0baf"
      },
      "execution_count": null,
      "outputs": [
        {
          "output_type": "execute_result",
          "data": {
            "text/plain": [
              "KNeighborsRegressor(n_neighbors=3)"
            ]
          },
          "metadata": {},
          "execution_count": 75
        }
      ]
    },
    {
      "cell_type": "code",
      "source": [
        "#evaluation on training data:\n",
        "from sklearn.metrics import mean_squared_error\n",
        "from math import sqrt\n",
        "y_train_predicted = knn_model.predict(x_tr_resample2)\n",
        "mse = mean_squared_error(y_tr_resample2, y_train_predicted)\n",
        "rmse = sqrt(mse)\n",
        "rmse"
      ],
      "metadata": {
        "colab": {
          "base_uri": "https://localhost:8080/"
        },
        "id": "xt7HY0RNgSxD",
        "outputId": "1ee4bc8a-8bc2-4855-d894-420b7b0b944a"
      },
      "execution_count": null,
      "outputs": [
        {
          "output_type": "execute_result",
          "data": {
            "text/plain": [
              "0.3261232563188105"
            ]
          },
          "metadata": {},
          "execution_count": 76
        }
      ]
    },
    {
      "cell_type": "code",
      "source": [
        "#evaluation on test data:\n",
        "test_preds = knn_model.predict(x_test)\n",
        "mse = mean_squared_error(y_test, test_preds)\n",
        "rmse = sqrt(mse)\n",
        "rmse"
      ],
      "metadata": {
        "colab": {
          "base_uri": "https://localhost:8080/"
        },
        "id": "FdZHDSGAg71k",
        "outputId": "000d718e-e35f-466d-ef7b-aba8b903ccfe"
      },
      "execution_count": null,
      "outputs": [
        {
          "output_type": "execute_result",
          "data": {
            "text/plain": [
              "0.3336606580012929"
            ]
          },
          "metadata": {},
          "execution_count": 77
        }
      ]
    },
    {
      "cell_type": "code",
      "source": [
        "for i in range(0,len(test_preds)):\n",
        "  if test_preds[i]>=0.5:\n",
        "    test_preds[i]=1\n",
        "  else:\n",
        "    test_preds[i]=0"
      ],
      "metadata": {
        "id": "5usdtIzig_ZV"
      },
      "execution_count": null,
      "outputs": []
    },
    {
      "cell_type": "code",
      "source": [
        "print(test_preds)"
      ],
      "metadata": {
        "colab": {
          "base_uri": "https://localhost:8080/"
        },
        "id": "6GxMhwC6hALa",
        "outputId": "0c9e4a86-11ac-4441-f937-b93259c9763c"
      },
      "execution_count": null,
      "outputs": [
        {
          "output_type": "stream",
          "name": "stdout",
          "text": [
            "[0. 0. 0. ... 0. 0. 0.]\n"
          ]
        }
      ]
    },
    {
      "cell_type": "code",
      "source": [
        "from sklearn import metrics"
      ],
      "metadata": {
        "id": "0zYxk1lIsb5F"
      },
      "execution_count": null,
      "outputs": []
    },
    {
      "cell_type": "code",
      "source": [
        "metrics.accuracy_score(y_test, test_preds)"
      ],
      "metadata": {
        "colab": {
          "base_uri": "https://localhost:8080/"
        },
        "id": "-NHhkmeIhC5v",
        "outputId": "7284354e-6016-4d5f-956e-0c1eec8ef05e"
      },
      "execution_count": null,
      "outputs": [
        {
          "output_type": "execute_result",
          "data": {
            "text/plain": [
              "0.8651929824561404"
            ]
          },
          "metadata": {},
          "execution_count": 81
        }
      ]
    },
    {
      "cell_type": "code",
      "source": [
        "print (confusion_matrix(y_test, test_preds))"
      ],
      "metadata": {
        "colab": {
          "base_uri": "https://localhost:8080/"
        },
        "id": "NUeuUdH-hEty",
        "outputId": "876469cd-9d86-491c-b4d6-69f92db724ba"
      },
      "execution_count": null,
      "outputs": [
        {
          "output_type": "stream",
          "name": "stdout",
          "text": [
            "[[10561   847]\n",
            " [ 1074  1768]]\n"
          ]
        }
      ]
    },
    {
      "cell_type": "code",
      "source": [
        "#Tuning of the hyperparameter k to optimize performances\n",
        "from sklearn.model_selection import GridSearchCV\n",
        "parameters = {\"n_neighbors\": range(1, 10)}\n",
        "gridsearch = GridSearchCV(KNeighborsRegressor(), parameters)\n",
        "gridsearch.fit(x_tr_resample2, y_tr_resample2)"
      ],
      "metadata": {
        "colab": {
          "base_uri": "https://localhost:8080/"
        },
        "id": "YHxQfQSB9LQP",
        "outputId": "82c74c89-3cc5-4376-949b-1069f5330660"
      },
      "execution_count": null,
      "outputs": [
        {
          "output_type": "execute_result",
          "data": {
            "text/plain": [
              "GridSearchCV(estimator=KNeighborsRegressor(),\n",
              "             param_grid={'n_neighbors': range(1, 10)})"
            ]
          },
          "metadata": {},
          "execution_count": 69
        }
      ]
    },
    {
      "cell_type": "code",
      "source": [
        "gridsearch.best_params_"
      ],
      "metadata": {
        "colab": {
          "base_uri": "https://localhost:8080/"
        },
        "id": "o0m3eivT_beZ",
        "outputId": "cbff9f3c-0427-48ae-d5d2-c4e11f924eb4"
      },
      "execution_count": null,
      "outputs": [
        {
          "output_type": "execute_result",
          "data": {
            "text/plain": [
              "{'n_neighbors': 5}"
            ]
          },
          "metadata": {},
          "execution_count": 71
        }
      ]
    },
    {
      "cell_type": "code",
      "source": [
        "#Which value of k is best for our model?\n",
        "train_preds_grid = gridsearch.predict(x_tr_resample2)\n",
        "train_mse = mean_squared_error(y_tr_resample2, train_preds_grid)\n",
        "train_rmse = sqrt(train_mse)\n",
        "test_preds_grid = gridsearch.predict(x_test)\n",
        "test_mse = mean_squared_error(y_test, test_preds_grid)\n",
        "test_rmse = sqrt(test_mse)\n",
        "print(\"Errors For the train dataset: \",train_rmse, \"For the test dataset: \",test_rmse)\n",
        "test_preds_grid = gridsearch.predict(x_test)\n",
        "\n",
        "for i in range(0,len(test_preds_grid)):\n",
        "  if test_preds_grid[i]>=0.5:\n",
        "    test_preds_grid[i]=1\n",
        "  else:\n",
        "    test_preds_grid[i]=0\n",
        "\n",
        "print (confusion_matrix(y_test, test_preds_grid))\n",
        "print(metrics.accuracy_score(y_test, test_preds_grid))"
      ],
      "metadata": {
        "colab": {
          "base_uri": "https://localhost:8080/"
        },
        "id": "wCAuzE2U9_8j",
        "outputId": "2f340f67-eb19-4ac4-cb40-13d38e0e0cfd"
      },
      "execution_count": null,
      "outputs": [
        {
          "output_type": "stream",
          "name": "stdout",
          "text": [
            "Errors For the train dataset:  0.3031217353700718 For the test dataset:  0.3483051696832394\n",
            "[[9929 1479]\n",
            " [ 812 2030]]\n",
            "0.8392280701754385\n"
          ]
        }
      ]
    },
    {
      "cell_type": "markdown",
      "source": [
        "## SVM Model before any treatment"
      ],
      "metadata": {
        "id": "giBTBvpCbQ8o"
      }
    },
    {
      "cell_type": "code",
      "source": [
        "from sklearn import svm\n",
        "model = svm.SVC(kernel='linear')\n",
        "model.fit(x_train, y_train)\n",
        "y_pred = model.predict(x_test)"
      ],
      "metadata": {
        "id": "tHMlTijxGmip"
      },
      "execution_count": null,
      "outputs": []
    },
    {
      "cell_type": "code",
      "source": [
        "print(classification_report(y_test, y_pred))\n",
        "print(confusion_matrix(y_test, y_pred))\n",
        "plot_confusion_matrix(model, x_test, y_test)"
      ],
      "metadata": {
        "id": "l47BhlOqGptY",
        "colab": {
          "base_uri": "https://localhost:8080/",
          "height": 542
        },
        "outputId": "5a3c8f87-2d9f-47d0-e97f-382b08b60aa9"
      },
      "execution_count": null,
      "outputs": [
        {
          "output_type": "stream",
          "name": "stdout",
          "text": [
            "              precision    recall  f1-score   support\n",
            "\n",
            "           0       0.87      0.91      0.89     11408\n",
            "           1       0.55      0.44      0.49      2842\n",
            "\n",
            "    accuracy                           0.82     14250\n",
            "   macro avg       0.71      0.67      0.69     14250\n",
            "weighted avg       0.80      0.82      0.81     14250\n",
            "\n",
            "[[10392  1016]\n",
            " [ 1604  1238]]\n"
          ]
        },
        {
          "output_type": "stream",
          "name": "stderr",
          "text": [
            "/usr/local/lib/python3.7/dist-packages/sklearn/utils/deprecation.py:87: FutureWarning: Function plot_confusion_matrix is deprecated; Function `plot_confusion_matrix` is deprecated in 1.0 and will be removed in 1.2. Use one of the class methods: ConfusionMatrixDisplay.from_predictions or ConfusionMatrixDisplay.from_estimator.\n",
            "  warnings.warn(msg, category=FutureWarning)\n"
          ]
        },
        {
          "output_type": "execute_result",
          "data": {
            "text/plain": [
              "<sklearn.metrics._plot.confusion_matrix.ConfusionMatrixDisplay at 0x7fc9704bfe90>"
            ]
          },
          "metadata": {},
          "execution_count": 27
        },
        {
          "output_type": "display_data",
          "data": {
            "image/png": "[encoded data removed]",
            "text/plain": [
              "<Figure size 432x288 with 2 Axes>"
            ]
          },
          "metadata": {
            "needs_background": "light"
          }
        }
      ]
    },
    {
      "cell_type": "markdown",
      "source": [
        "## SVM Model after oversampling"
      ],
      "metadata": {
        "id": "BBgYwfJD0UH9"
      }
    },
    {
      "cell_type": "code",
      "source": [
        "from sklearn import svm\n",
        "model = svm.SVC(kernel='linear')\n",
        "model.fit(x_tr_resample2, y_tr_resample2)\n",
        "y_pred = model.predict(x_test)"
      ],
      "metadata": {
        "id": "g_lLSY9Pb58J"
      },
      "execution_count": null,
      "outputs": []
    },
    {
      "cell_type": "code",
      "source": [
        "print(classification_report(y_test, y_pred))\n",
        "print(confusion_matrix(y_test, y_pred))\n",
        "plot_confusion_matrix(model, x_test, y_test)"
      ],
      "metadata": {
        "id": "Q-yi5oxzb9Bs"
      },
      "execution_count": null,
      "outputs": []
    },
    {
      "cell_type": "markdown",
      "source": [
        "The SVM Model took too much time executing (almost 3 hours) and didn't finish, that's when we decided to try the undersampling technique and compare the results:"
      ],
      "metadata": {
        "id": "nhJ_Y-ftcTYS"
      }
    },
    {
      "cell_type": "markdown",
      "source": [
        "## Undersampling"
      ],
      "metadata": {
        "id": "ohqZ1IHUczYh"
      }
    },
    {
      "cell_type": "code",
      "source": [
        "Data_train= pd.concat([x_train,y_train], axis=1) #Concatenate the train dataset\n",
        "nbr_frauds = len(Data_train[Data_train['fraud_flag'] == 1])\n",
        "non_fraud_indices = Data_train[Data_train.fraud_flag == 0].index\n",
        "random_indices = np.random.choice(non_fraud_indices,nbr_frauds, replace=False)\n",
        "fraud_indices = Data_train[Data_train.fraud_flag == 1].index\n",
        "under_sample_indices = np.concatenate([fraud_indices,random_indices])"
      ],
      "metadata": {
        "id": "eIK2G8LodU6K"
      },
      "execution_count": null,
      "outputs": []
    },
    {
      "cell_type": "code",
      "source": [
        "under_sample=Data_train.loc[under_sample_indices]"
      ],
      "metadata": {
        "id": "JYEtKvGAdbyg"
      },
      "execution_count": null,
      "outputs": []
    },
    {
      "cell_type": "code",
      "source": [
        "y_train_underS = under_sample['fraud_flag']\n",
        "x_train_underS=under_sample.drop(['fraud_flag'], axis=1)"
      ],
      "metadata": {
        "id": "UDHjUMyWddxe"
      },
      "execution_count": null,
      "outputs": []
    },
    {
      "cell_type": "code",
      "source": [
        "from collections import Counter\n",
        "counter = Counter(y_train_underS)\n",
        "print(counter)"
      ],
      "metadata": {
        "id": "ZXSSU-NAdfK6",
        "colab": {
          "base_uri": "https://localhost:8080/"
        },
        "outputId": "f036a01e-5e94-45be-b14e-0cc1a252b5f6"
      },
      "execution_count": null,
      "outputs": [
        {
          "output_type": "stream",
          "name": "stdout",
          "text": [
            "Counter({1: 11408, 0: 11408})\n"
          ]
        }
      ]
    },
    {
      "cell_type": "code",
      "source": [
        "pie, ax = plt.subplots(figsize=[15,10])\n",
        "labels = ['Non-fraud', 'Fraud']\n",
        "colors = ['pink', 'blue']\n",
        "plt.pie(x = y_train_underS.value_counts(), autopct='%.2f%%', explode=[0.02]*2, labels=labels, pctdistance=0.5, textprops={'fontsize': 14}, colors = colors)\n",
        "plt.title('Target distribution', fontsize=20, fontweight='bold')\n",
        "plt.show()"
      ],
      "metadata": {
        "id": "HVClJtDadfsG",
        "colab": {
          "base_uri": "https://localhost:8080/",
          "height": 596
        },
        "outputId": "91d83f78-723a-4dbf-abd2-a6c3592a4644"
      },
      "execution_count": null,
      "outputs": [
        {
          "output_type": "display_data",
          "data": {
            "image/png": "[encoded data removed]",
            "text/plain": [
              "<Figure size 1080x720 with 1 Axes>"
            ]
          },
          "metadata": {}
        }
      ]
    },
    {
      "cell_type": "markdown",
      "source": [
        "## SVM after undersampling"
      ],
      "metadata": {
        "id": "_PIcsr9I0n2u"
      }
    },
    {
      "cell_type": "code",
      "source": [
        "from sklearn import svm\n",
        "model = svm.SVC(kernel='linear')\n",
        "model.fit(x_train_underS, y_train_underS)\n",
        "y_pred = model.predict(x_test)"
      ],
      "metadata": {
        "id": "vV3jsuhAG2y8"
      },
      "execution_count": null,
      "outputs": []
    },
    {
      "cell_type": "code",
      "source": [
        "print(classification_report(y_test, y_pred))\n",
        "print(confusion_matrix(y_test, y_pred))\n",
        "plot_confusion_matrix(model, x_test, y_test)"
      ],
      "metadata": {
        "id": "In51XcvcG3mW",
        "colab": {
          "base_uri": "https://localhost:8080/",
          "height": 542
        },
        "outputId": "7017e237-8b40-4144-b7a3-20762b683ee1"
      },
      "execution_count": null,
      "outputs": [
        {
          "output_type": "stream",
          "name": "stdout",
          "text": [
            "              precision    recall  f1-score   support\n",
            "\n",
            "           0       0.89      0.81      0.85     11408\n",
            "           1       0.44      0.61      0.51      2842\n",
            "\n",
            "    accuracy                           0.77     14250\n",
            "   macro avg       0.67      0.71      0.68     14250\n",
            "weighted avg       0.80      0.77      0.78     14250\n",
            "\n",
            "[[9234 2174]\n",
            " [1111 1731]]\n"
          ]
        },
        {
          "output_type": "stream",
          "name": "stderr",
          "text": [
            "/usr/local/lib/python3.7/dist-packages/sklearn/utils/deprecation.py:87: FutureWarning: Function plot_confusion_matrix is deprecated; Function `plot_confusion_matrix` is deprecated in 1.0 and will be removed in 1.2. Use one of the class methods: ConfusionMatrixDisplay.from_predictions or ConfusionMatrixDisplay.from_estimator.\n",
            "  warnings.warn(msg, category=FutureWarning)\n"
          ]
        },
        {
          "output_type": "execute_result",
          "data": {
            "text/plain": [
              "<sklearn.metrics._plot.confusion_matrix.ConfusionMatrixDisplay at 0x7f71d5a2a290>"
            ]
          },
          "metadata": {},
          "execution_count": 31
        },
        {
          "output_type": "display_data",
          "data": {
            "image/png": "[encoded data removed]",
            "text/plain": [
              "<Figure size 432x288 with 2 Axes>"
            ]
          },
          "metadata": {
            "needs_background": "light"
          }
        }
      ]
    },
    {
      "cell_type": "markdown",
      "metadata": {
        "id": "4sPfDZcX7PT9"
      },
      "source": [
        "# Appendix"
      ]
    },
    {
      "cell_type": "markdown",
      "metadata": {
        "id": "VmaivgFR7REh"
      },
      "source": [
        "## Getting the addresses of the scammers from the API"
      ]
    },
    {
      "cell_type": "code",
      "metadata": {
        "id": "0SK8xxTML6oj",
        "colab": {
          "base_uri": "https://localhost:8080/"
        },
        "outputId": "11b2df74-b64a-448a-9c96-b0629559d5f3"
      },
      "source": [
        "import requests\n",
        "  \n",
        "# the scam database api-endpoint\n",
        "URL = \"https://api.cryptoscamdb.org/v1/addresses\"\n",
        "r = requests.get(url = URL)\n",
        "  \n",
        "# extracting data\n",
        "query_result = r.json()\n",
        "res = query_result['result']\n",
        "\n",
        "# extraction the addresses of scammers\n",
        "scammers = []\n",
        "if ( query_result['success']):\n",
        "    for adr in res:\n",
        "        dic = res[adr][0]\n",
        "        if (dic['type'] == 'scam'):\n",
        "            scammers.append(dic['address'])\n",
        "\n",
        "print(\"The number of fraudulent addresses in the database is :\" ,len(scammers))"
      ],
      "execution_count": null,
      "outputs": [
        {
          "output_type": "stream",
          "name": "stdout",
          "text": [
            "The number of fraudulent addresses in the database is : 4228\n"
          ]
        }
      ]
    }
  ]
}